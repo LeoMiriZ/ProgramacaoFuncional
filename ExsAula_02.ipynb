{
 "cells": [
  {
   "cell_type": "markdown",
   "metadata": {},
   "source": [
    "# 1. Crie uma variável String e a exiba no sentido inverso"
   ]
  },
  {
   "cell_type": "code",
   "execution_count": 12,
   "metadata": {},
   "outputs": [
    {
     "name": "stdout",
     "output_type": "stream",
     "text": [
      "odranoeL\n"
     ]
    }
   ],
   "source": [
    "frase = 'Leonardo'\n",
    "\n",
    "print(frase[::-1])"
   ]
  },
  {
   "cell_type": "markdown",
   "metadata": {},
   "source": [
    "# 2. Verifique se na frase “Python é uma linguagem excelente” existe as expressões:'py’, 'ing’, ‘zzz’"
   ]
  },
  {
   "cell_type": "code",
   "execution_count": 13,
   "metadata": {},
   "outputs": [
    {
     "name": "stdout",
     "output_type": "stream",
     "text": [
      "False\n",
      "True\n",
      "False\n"
     ]
    }
   ],
   "source": [
    "frase = 'Python é uma linguagem excelente'\n",
    "\n",
    "print('py' in frase)\n",
    "\n",
    "print('ing' in frase)\n",
    "\n",
    "print('zzz' in frase)"
   ]
  },
  {
   "cell_type": "markdown",
   "metadata": {},
   "source": [
    "# 3. Para:\n",
    "# salario = 3450.45\n",
    "# despesas = 2456.2\n",
    "# Calcule o percentual do salário comprometido com as despesas\n"
   ]
  },
  {
   "cell_type": "code",
   "execution_count": 49,
   "metadata": {},
   "outputs": [
    {
     "name": "stdout",
     "output_type": "stream",
     "text": [
      "71.18 %\n"
     ]
    }
   ],
   "source": [
    "import math\n",
    "\n",
    "salario = 3450.45\n",
    "despesas = 2456.2\n",
    "\n",
    "p = despesas / salario * 100\n",
    "\n",
    "print((round(p, 2)), '%')"
   ]
  },
  {
   "cell_type": "markdown",
   "metadata": {},
   "source": [
    "# 4. Crie um programa em Python capaz de receber dois número x e y e que imprima na tela o resultado da soma destes números"
   ]
  },
  {
   "cell_type": "code",
   "execution_count": 19,
   "metadata": {},
   "outputs": [
    {
     "name": "stdout",
     "output_type": "stream",
     "text": [
      "A soma dos números é:  5\n"
     ]
    }
   ],
   "source": [
    "x = int(input('Digite um número: '))\n",
    "y = int(input('Digite outro número: '))\n",
    "\n",
    "print('A soma dos números é: ', x + y)  "
   ]
  },
  {
   "cell_type": "markdown",
   "metadata": {},
   "source": [
    "# 5. Faça uma rotina que receba a idade de um pessoa e determine se ela é:\n",
    "# Menor de idade (<18)\n",
    "# Adulto (entre 18 e 65)\n",
    "# Melhor idade (66 e 100)\n",
    "# Centenário > 100"
   ]
  },
  {
   "cell_type": "code",
   "execution_count": 25,
   "metadata": {},
   "outputs": [
    {
     "name": "stdout",
     "output_type": "stream",
     "text": [
      "Centenário\n"
     ]
    }
   ],
   "source": [
    "x = int(input('Digite um número: '))\n",
    "\n",
    "if x < 18:\n",
    "    print('Menor de idade')\n",
    "elif x >= 18 and x <= 65:\n",
    "    print('Adulto')\n",
    "elif x > 65 and x <= 100:\n",
    "    print('Melhor Idade')\n",
    "else:\n",
    "    print('Centenário')"
   ]
  },
  {
   "cell_type": "markdown",
   "metadata": {},
   "source": [
    "# 6. Exiba a palavra 'paralelepípedo’ com suas letras separadas por virgulas -> p,a,r,a,l,e,l,e,p,í,p,e,d,o"
   ]
  },
  {
   "cell_type": "code",
   "execution_count": 50,
   "metadata": {},
   "outputs": [
    {
     "name": "stdout",
     "output_type": "stream",
     "text": [
      "p,a,r,a,l,e,l,e,p,í,p,e,d,o,"
     ]
    }
   ],
   "source": [
    "palavra = 'paralelepípedo'\n",
    "\n",
    "for l in palavra:\n",
    "    print(l, end=',')"
   ]
  },
  {
   "cell_type": "markdown",
   "metadata": {},
   "source": [
    "# 7. Exiba cada nome em uma linha diferente -> [Danieli', ‘André', ‘Marcelo', ‘Ana Paula’]"
   ]
  },
  {
   "cell_type": "code",
   "execution_count": 31,
   "metadata": {},
   "outputs": [
    {
     "name": "stdout",
     "output_type": "stream",
     "text": [
      "Danieli\n",
      "André\n",
      "Marcelo\n",
      "Ana Paula\n"
     ]
    }
   ],
   "source": [
    "lista_pessoas = ['Danieli', 'André', 'Marcelo', 'Ana Paula']\n",
    "\n",
    "for pessoa in lista_pessoas:\n",
    "    print(pessoa)"
   ]
  },
  {
   "cell_type": "markdown",
   "metadata": {},
   "source": [
    "# 8. Sorteie um número de 0– 9 utilizando a função randint(0, 9) e solicite ao usuário inserir um numero até o mesmo acertar o valor sorteado randomicamente, ao acertar o valor exiba a frase “Número secreto x foi encontrado!” e pare o processamento"
   ]
  },
  {
   "cell_type": "code",
   "execution_count": 47,
   "metadata": {},
   "outputs": [
    {
     "name": "stdout",
     "output_type": "stream",
     "text": [
      "Número secreto 6 foi encontrado!\n"
     ]
    }
   ],
   "source": [
    "import random\n",
    "\n",
    "x = random.randint(0, 9)\n",
    "\n",
    "num = int(input('Digite um número: '))\n",
    "\n",
    "while num != x:\n",
    "    num = int(input('Digite um número: '))\n",
    "else:\n",
    "    print('Número secreto', x, 'foi encontrado!')"
   ]
  },
  {
   "cell_type": "markdown",
   "metadata": {},
   "source": [
    "# 9. Receba um número de entrada e faça uma sequência de Fibonacci de 10 posições"
   ]
  },
  {
   "cell_type": "code",
   "execution_count": 119,
   "metadata": {},
   "outputs": [
    {
     "name": "stdout",
     "output_type": "stream",
     "text": [
      "O valor é  2\n",
      "O valor é  3\n",
      "O valor é  5\n",
      "O valor é  8\n",
      "O valor é  13\n",
      "O valor é  21\n",
      "O valor é  34\n",
      "O valor é  55\n"
     ]
    }
   ],
   "source": [
    "x = int(input('Digite um número'))\n",
    "\n",
    "v1 = 1\n",
    "v2 = 1\n",
    "r = 0\n",
    "\n",
    "if x < 0:\n",
    "    print('O número deve ser positivo')\n",
    "elif x == 0:\n",
    "    print('O valor é 0')\n",
    "elif x == 1:\n",
    "    print('O valor é 1')\n",
    "else:\n",
    "    for i in range(0, x):\n",
    "        r = v1 + v2\n",
    "        v1 = v2\n",
    "        v2 = r\n",
    "        print('O valor é ', r)"
   ]
  }
 ],
 "metadata": {
  "kernelspec": {
   "display_name": "Python 3",
   "language": "python",
   "name": "python3"
  },
  "language_info": {
   "codemirror_mode": {
    "name": "ipython",
    "version": 3
   },
   "file_extension": ".py",
   "mimetype": "text/x-python",
   "name": "python",
   "nbconvert_exporter": "python",
   "pygments_lexer": "ipython3",
   "version": "3.11.4"
  },
  "orig_nbformat": 4
 },
 "nbformat": 4,
 "nbformat_minor": 2
}
